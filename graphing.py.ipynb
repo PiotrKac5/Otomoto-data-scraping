{
 "cells": [
  {
   "cell_type": "code",
   "execution_count": 1,
   "id": "initial_id",
   "metadata": {
    "collapsed": true,
    "ExecuteTime": {
     "end_time": "2024-07-04T17:23:42.122756555Z",
     "start_time": "2024-07-04T17:23:41.609317486Z"
    }
   },
   "outputs": [],
   "source": [
    "import pandas as pd\n",
    "import matplotlib.pyplot as plt"
   ]
  },
  {
   "cell_type": "code",
   "execution_count": 20,
   "outputs": [],
   "source": [
    "df = pd.read_csv('cars.csv')\n",
    "df['year'] = df['year'].astype(int)\n",
    "df['price'] = df['price'].apply(lambda x: x.replace(\" \", \"\"))\n",
    "df['price'] = pd.to_numeric(df['price'])"
   ],
   "metadata": {
    "collapsed": false,
    "ExecuteTime": {
     "end_time": "2024-07-04T17:41:07.299206575Z",
     "start_time": "2024-07-04T17:41:07.295866846Z"
    }
   },
   "id": "3ac7f6e94d9fa611"
  }
 ],
 "metadata": {
  "kernelspec": {
   "display_name": "Python 3",
   "language": "python",
   "name": "python3"
  },
  "language_info": {
   "codemirror_mode": {
    "name": "ipython",
    "version": 2
   },
   "file_extension": ".py",
   "mimetype": "text/x-python",
   "name": "python",
   "nbconvert_exporter": "python",
   "pygments_lexer": "ipython2",
   "version": "2.7.6"
  }
 },
 "nbformat": 4,
 "nbformat_minor": 5
}
